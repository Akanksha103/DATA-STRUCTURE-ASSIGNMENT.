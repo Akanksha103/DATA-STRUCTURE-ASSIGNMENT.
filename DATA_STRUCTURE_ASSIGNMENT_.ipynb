{
  "nbformat": 4,
  "nbformat_minor": 0,
  "metadata": {
    "colab": {
      "provenance": []
    },
    "kernelspec": {
      "name": "python3",
      "display_name": "Python 3"
    },
    "language_info": {
      "name": "python"
    }
  },
  "cells": [
    {
      "cell_type": "code",
      "execution_count": null,
      "metadata": {
        "id": "GM07vWDWGjT5"
      },
      "outputs": [],
      "source": []
    },
    {
      "cell_type": "markdown",
      "source": [
        "THEORY QUESTIONS"
      ],
      "metadata": {
        "id": "r_15AiKiGrIa"
      }
    },
    {
      "cell_type": "markdown",
      "source": [
        "Q1. What are data structures, and why are they important?"
      ],
      "metadata": {
        "id": "O9voB6vMGuou"
      }
    },
    {
      "cell_type": "markdown",
      "source": [
        "Ans. Data structures are fundamental concepts in computer science that allow you to organize, store, and manipulate data efficiently. They provide a way to manage large amounts of data, making it possible to perform operations such as sorting, searching, inserting, and deleting data.\n",
        "Importance of Data Structures\n",
        "1. Improve Efficiency\n",
        "2. Enable Scalability\n",
        "3. Simplify Code\n",
        "4. Support Real-World Applications"
      ],
      "metadata": {
        "id": "GNAkN6PEHfeJ"
      }
    },
    {
      "cell_type": "markdown",
      "source": [
        "Q2. Explain the difference between mutable and immutable data types with examples?"
      ],
      "metadata": {
        "id": "-BNc4UHCLFWZ"
      }
    },
    {
      "cell_type": "markdown",
      "source": [
        "Ans. Mutable Data Types\n",
        "Mutable data types are those that can be modified or changed after they are created. In other words, their state can be altered.\n",
        "\n",
        "Examples of mutable data types in Python:\n",
        "\n",
        "1. Lists: Lists are ordered collections of items that can be of any data type, including strings, integers, floats, and other lists.\n",
        "2. Dictionaries: Dictionaries are unordered collections of key-value pairs.\n",
        "3. Sets: Sets are unordered collections of unique items.\n",
        "\n",
        "Immutable Data Types\n",
        "Immutable data types are those that cannot be modified or changed after they are created. In other words, their state cannot be altered.\n",
        "\n",
        "Examples of immutable data types in Python:\n",
        "\n",
        "1. Integers: Integers are whole numbers, either positive, negative, or zero.\n",
        "2. Floats: Floats are real numbers, represented as decimals.\n",
        "3. Strings: Strings are sequences of characters, such as words or sentences.\n",
        "4. Tuples: Tuples are ordered, immutable collections of items.\n",
        "\n"
      ],
      "metadata": {
        "id": "TAWHAX2TLPuR"
      }
    },
    {
      "cell_type": "markdown",
      "source": [
        "Q3. What are the main differences between lists and tuples in Python?"
      ],
      "metadata": {
        "id": "RsUKgZJBLgJO"
      }
    },
    {
      "cell_type": "markdown",
      "source": [
        "Ans. Differences:\n",
        "1. Immutability: Tuples are immutable, meaning that once created, their contents cannot be modified. Lists, on the other hand, are mutable, meaning that their contents can be modified after creation.\n",
        "2. Syntax: Tuples are defined using parentheses (), while lists are defined using square brackets [].\n",
        "3. Performance: Tuples are generally faster and more memory-efficient than lists, since they are immutable and their contents are stored in a single block of memory.\n",
        "4. Use cases: Tuples are often used when you need to store a small, fixed-size collection of items that won't change, such as a point in 2D space (x, y). Lists, on the other hand, are often used when you need to store a dynamic collection of items that may change, such as a list of users or a list of tasks.\n"
      ],
      "metadata": {
        "id": "6wArRLmmLnCN"
      }
    },
    {
      "cell_type": "markdown",
      "source": [
        "Q4. Describe how dictionaries store data?"
      ],
      "metadata": {
        "id": "wI4oUSrkLsyq"
      }
    },
    {
      "cell_type": "markdown",
      "source": [
        "Ans. Key-Value Pairs\n",
        "A dictionary consists of multiple key-value pairs. Each key-value pair is an association between:\n",
        "\n",
        "- Key (also known as a hash): A unique identifier for the value. Keys are usually strings, integers, or tuples, but can be any immutable type.\n",
        "- Value: The data associated with the key. Values can be of any data type, including strings, integers, floats, lists, dictionaries, and more.\n",
        "\n",
        "Hash Table Implementation\n",
        "Dictionaries in Python are implemented as hash tables. A hash table is a data structure that maps keys to values using a hash function. Here's how it works:\n",
        "\n",
        "1. Hash Function: When you insert a key-value pair into the dictionary, Python uses a hash function to generate a hash code for the key. The hash code is an integer that represents the key.\n",
        "2. Index Calculation: The hash code is then used to calculate an index, which determines the location where the key-value pair is stored in the dictionary.\n",
        "3. Collision Resolution: If two keys hash to the same index (a collision), Python uses a technique called open addressing to resolve the collision. This involves probing other indices in the dictionary until an empty slot is found.\n"
      ],
      "metadata": {
        "id": "BRvJjwohLx6w"
      }
    },
    {
      "cell_type": "markdown",
      "source": [
        "Q5. Why might you use a set instead of a list in Python?"
      ],
      "metadata": {
        "id": "JBNs9ipcL_ly"
      }
    },
    {
      "cell_type": "markdown",
      "source": [
        "Ans. Reasons to Use a Set Instead of a List:\n",
        "1. Uniqueness: Sets automatically eliminate duplicate values, whereas lists allow duplicates. If you need to ensure that all elements in your collection are unique, a set is a better choice.\n",
        "2. Faster Membership Testing: Sets provide faster membership testing using the in operator, with an average time complexity of O(1), compared to lists, which have a time complexity of O(n).\n",
        "3. Efficient Union, Intersection, and Difference Operations: Sets provide efficient methods for union, intersection, and difference operations, making them ideal for tasks like finding common elements between two collections or combining multiple collections.\n",
        "4. Improved Memory Efficiency: Sets can be more memory-efficient than lists, especially when dealing with large collections of unique elements.\n"
      ],
      "metadata": {
        "id": "H11m8OmOML5E"
      }
    },
    {
      "cell_type": "markdown",
      "source": [
        "Q6. What is a string in Python, and how is it different from a list?"
      ],
      "metadata": {
        "id": "XQxrvbnyMS2k"
      }
    },
    {
      "cell_type": "markdown",
      "source": [
        "Ans.  A string is a sequence of characters, such as letters, numbers, or symbols, enclosed in quotes (either single quotes ' ' or double quotes \" \"). Strings are immutable, meaning their contents cannot be modified after creation.\n",
        "How Strings Differ from Lists:\n",
        "1. Immutability: Strings are immutable, while lists are mutable.\n",
        "2. Homogeneity: Strings can only contain characters, while lists can contain elements of any data type.\n",
        "3. Syntax: Strings are enclosed in quotes, while lists are enclosed in square brackets [].\n",
        "4. Operations: Strings support operations like concatenation, slicing, and formatting, while lists support operations like indexing, slicing, appending, and inserting.\n",
        "\n"
      ],
      "metadata": {
        "id": "c6wA5HqsMY-Z"
      }
    },
    {
      "cell_type": "markdown",
      "source": [
        "Q7. How do tuples ensure data integrity in Python?"
      ],
      "metadata": {
        "id": "ECuZGarFMm5j"
      }
    },
    {
      "cell_type": "markdown",
      "source": [
        "Ans. Immutability\n",
        "Tuples are immutable, meaning that once created, their contents cannot be modified. This ensures that the data within the tuple remains consistent and unchanged throughout the program's execution.\n",
        "\n",
        "Protection from Accidental Modification\n",
        "Because tuples are immutable, they protect against accidental modification of data. This is particularly important when working with sensitive or critical data that should not be altered.\n",
        "\n",
        "Thread Safety\n",
        "Tuples are thread-safe, meaning that multiple threads can access and use the same tuple without fear of data corruption or modification.\n",
        "\n",
        "Hashability\n",
        "Tuples are hashable, which means they can be used as dictionary keys. This ensures that the tuple's contents are not modified, as dictionary keys must be immutable.\n",
        "\n",
        "Code Integrity\n",
        "Tuples can also ensure code integrity by providing a way to define constants or read-only data structures. By using tuples to store constants or read-only data, you can ensure that the data is not modified accidentally or intentionally.\n"
      ],
      "metadata": {
        "id": "XfNTf9KhMtZn"
      }
    },
    {
      "cell_type": "markdown",
      "source": [
        "Q8. What is a hash table, and how does it relate to dictionaries in Python?"
      ],
      "metadata": {
        "id": "aMrcw5p_MzqR"
      }
    },
    {
      "cell_type": "markdown",
      "source": [
        "Ans. A hash table (also known as a hash map or dictionary) is a data structure that stores key-value pairs in a way that allows for efficient lookup, insertion, and deletion of elements.\n",
        "Dictionaries in Python:\n",
        "In Python, dictionaries (also known as dicts) are implemented using hash tables. Dictionaries are mutable data structures that store mappings of unique keys to values.\n",
        "\n",
        "Benefits of Hash Tables in Dictionaries:\n",
        "1. Fast Lookups: Hash tables allow for fast lookups, with an average time complexity of O(1), making dictionaries efficient for storing and retrieving data.\n",
        "2. Efficient Insertion and Deletion: Hash tables enable efficient insertion and deletion of key-value pairs, with an average time complexity of O(1)"
      ],
      "metadata": {
        "id": "4vUnKmhGM6wU"
      }
    },
    {
      "cell_type": "markdown",
      "source": [
        "Q9. Can lists contain different data types in Python?"
      ],
      "metadata": {
        "id": "HBflfDBeN0o7"
      }
    },
    {
      "cell_type": "markdown",
      "source": [
        "Ans. Yes, lists in Python can contain different data types. This is one of the key features that makes lists so powerful and flexible.\n"
      ],
      "metadata": {
        "id": "sf4ztxngPMgF"
      }
    },
    {
      "cell_type": "markdown",
      "source": [
        "Q10. Explain why strings are immutable in Python?"
      ],
      "metadata": {
        "id": "78gM2zM4PTYm"
      }
    },
    {
      "cell_type": "markdown",
      "source": [
        "Ans. In Python, strings are immutable, meaning that once created, their contents cannot be modified. This design decision has several reasons:\n",
        "\n",
        "1. Thread Safety\n",
        "2. Hashability\n",
        "3. Security\n",
        "4. Performance\n",
        "5. Code Simplicity"
      ],
      "metadata": {
        "id": "oFpmFYRbPafZ"
      }
    },
    {
      "cell_type": "markdown",
      "source": [
        "Q11. What advantages do dictionaries offer over lists for certain tasks?"
      ],
      "metadata": {
        "id": "0JYmGLqaP2ov"
      }
    },
    {
      "cell_type": "markdown",
      "source": [
        "Ans. 1. Fast Lookups:\n",
        "Dictionaries provide fast lookups, with an average time complexity of O(1), making them ideal for tasks that require frequent lookups. In contrast, lists have a time complexity of O(n) for lookups.\n",
        "2. Unique Keys:\n",
        "Dictionaries enforce unique keys, which ensures that each key is associated with only one value. This makes dictionaries useful for tasks that require unique identifiers or mappings.\n",
        "\n",
        "4. Flexible Data Structure:\n",
        "Dictionaries are a flexible data structure that can store a wide range of data types, including strings, integers, floats, lists, and other dictionaries.\n",
        "\n",
        "5. Improved Code Readability:\n",
        "Dictionaries can improve code readability by providing a clear and concise way to represent data. For example, a dictionary can be used to represent a person's details, with keys like \"name\", \"age\", and \"address\".\n"
      ],
      "metadata": {
        "id": "L7X2a59FP9tc"
      }
    },
    {
      "cell_type": "markdown",
      "source": [
        "Q12. Describe a scenario where using a tuple would be preferable over a list?"
      ],
      "metadata": {
        "id": "x2xFyig5QOBF"
      }
    },
    {
      "cell_type": "markdown",
      "source": [
        "Ans. Scenario:\n",
        "Suppose you're working on a program that deals with dates, and you need to represent a specific date in the format (year, month, day). You want to ensure that this date remains unchanged throughout the program's execution.\n",
        "\n",
        "Why Tuples Are Preferable:\n",
        "In this scenario, using a tuple to represent the date is preferable over using a list for several reasons:\n",
        "\n",
        "1. Immutability: Tuples are immutable, which means that once created, their contents cannot be modified. This ensures that the date remains unchanged, which is critical in many applications.\n",
        "2. Hashability: Tuples are hashable, which means they can be used as dictionary keys or added to sets. This is useful if you need to store dates in a data structure that requires hashable elements.\n",
        "3. Performance: Tuples are generally faster and more memory-efficient than lists, especially for small collections of elements.\n",
        "4. Code Clarity: Using a tuple to represent a date makes the code more readable and self-explanatory, as it clearly conveys the intent of the data structure.\n"
      ],
      "metadata": {
        "id": "BkRFcAShQbsE"
      }
    },
    {
      "cell_type": "markdown",
      "source": [
        "Q13. How do sets handle duplicate values in Python?"
      ],
      "metadata": {
        "id": "0rVh-h3BQizc"
      }
    },
    {
      "cell_type": "markdown",
      "source": [
        "Ans. 1. Hashing: When you add an element to a set, Python hashes the element using a hash function. The hash function generates a unique hash code for each element.\n",
        "2. Index Calculation: The hash code is then used to calculate an index, which determines the location where the element is stored in the set.\n",
        "3. Collision Detection: If the calculated index is already occupied by another element, Python checks whether the two elements are equal. If they are equal, the duplicate element is ignored.\n",
        "\n"
      ],
      "metadata": {
        "id": "1-gjih6nQoPE"
      }
    },
    {
      "cell_type": "markdown",
      "source": [
        "Q14. How does the “in” keyword work differently for lists and dictionaries?"
      ],
      "metadata": {
        "id": "KmuxP6yUQvrO"
      }
    },
    {
      "cell_type": "markdown",
      "source": [
        "Ans. Lists:\n",
        "When used with lists, the in keyword checks if a value is present in the list. It iterates over the list and returns True if the value is found, and False otherwise.\n",
        "\n",
        "Dictionaries:\n",
        "When used with dictionaries, the in keyword checks if a key is present in the dictionary. It does not check for values. It iterates over the dictionary's keys and returns True if the key is found, and False otherwise.\n",
        "\n",
        "Example Code:\n",
        "\n",
        "# List example\n",
        "my_list = [1, 2, 3, 4, 5]\n",
        "print(3 in my_list)  # Output: True\n",
        "print(6 in my_list)  # Output: False\n",
        "\n",
        "# Dictionary example\n",
        "my_dict = {\"name\": \"John\", \"age\": 30}\n",
        "print(\"name\" in my_dict)  # Output: True\n",
        "print(\"city\" in my_dict)  # Output: False\n",
        "print(\"John\" in my_dict)  # Output: False (because \"John\" is a value, not a key)\n",
        "\n"
      ],
      "metadata": {
        "id": "bH1q1a7zQ0--"
      }
    },
    {
      "cell_type": "markdown",
      "source": [
        "Q15. Can you modify the elements of a tuple? Explain why or why not?"
      ],
      "metadata": {
        "id": "qkt_p50eRHSn"
      }
    },
    {
      "cell_type": "markdown",
      "source": [
        "Ans. No, you cannot modify the elements of a tuple. Tuples are immutable in Python, meaning that once created, their contents cannot be modified.\n",
        "\n",
        "Why Tuples Are Immutable:\n",
        "There are several reasons why tuples are immutable:\n",
        "\n",
        "1. Hashability: Tuples are hashable, meaning they can be used as dictionary keys or added to sets. If tuples were mutable, their hash values would change when modified, leading to inconsistencies in dictionaries and sets.\n",
        "2. Thread Safety: Immutable tuples ensure thread safety. When multiple threads access the same tuple, there's no risk of one thread modifying the tuple while another thread is reading it.\n",
        "3. Code Clarity: Immutable tuples promote code clarity. When you see a tuple in code, you know its contents won't change, making it easier to reason about the code's behavior.\n"
      ],
      "metadata": {
        "id": "IhQnOemgRPsr"
      }
    },
    {
      "cell_type": "markdown",
      "source": [
        "Q16. What is a nested dictionary, and give an example of its use case?"
      ],
      "metadata": {
        "id": "u81lFHhCRayR"
      }
    },
    {
      "cell_type": "markdown",
      "source": [
        "Ans. A nested dictionary is a dictionary that contains another dictionary as its value. This allows you to store complex, hierarchical data structures.\n",
        "\n",
        "Example of a Nested Dictionary:\n",
        "\n",
        "student_grades = {\n",
        "    \"John\": {\n",
        "        \"Math\": 85,\n",
        "        \"Science\": 90,\n",
        "        \"English\": 78\n",
        "    },\n",
        "    \"Alice\": {\n",
        "        \"Math\": 92,\n",
        "        \"Science\": 88,\n",
        "        \"English\": 95\n",
        "    },\n",
        "    \"Bob\": {\n",
        "        \"Math\": 78,\n",
        "        \"Science\": 82,\n",
        "        \"English\": 89\n",
        "    }\n",
        "}\n"
      ],
      "metadata": {
        "id": "NdiEi1kWRgUF"
      }
    },
    {
      "cell_type": "markdown",
      "source": [
        "Q17. Describe the time complexity of accessing elements in a dictionary?"
      ],
      "metadata": {
        "id": "rkAi_04kRn42"
      }
    },
    {
      "cell_type": "markdown",
      "source": [
        "Ans. Accessing elements in a dictionary (also known as a hash table) has an average time complexity of O(1), making it a very efficient operation.\n",
        "\n",
        "Why is it O(1)?\n",
        "Dictionaries use a hash function to map keys to indices of a backing array. When you access an element in a dictionary, the following steps occur:\n",
        "\n",
        "1. Hash Calculation: The key is passed through a hash function, which generates a hash code.\n",
        "2. Index Calculation: The hash code is then used to calculate the index of the backing array where the corresponding value is stored.\n",
        "3. Value Retrieval: The value at the calculated index is retrieved.\n",
        "\n",
        "Factors Affecting Time Complexity:\n",
        "While the average time complexity of accessing elements in a dictionary is O(1), there are some factors that can affect performance:\n",
        "\n",
        "1. Hash Collisions: When two keys hash to the same index, a collision occurs. In this case, the dictionary may need to perform additional operations to resolve the collision, which can increase the time complexity.\n",
        "2. Load Factor: The load factor of a dictionary is the ratio of the number of elements to the size of the backing array. A high load factor can lead to more collisions and slower performance.\n",
        "3. Hash Function Quality: A good hash function should distribute keys evenly across the backing array. A poor hash function can lead to more collisions and slower performance.\n"
      ],
      "metadata": {
        "id": "liJt6itqSQRT"
      }
    },
    {
      "cell_type": "markdown",
      "source": [
        "Q18. In what situations are lists preferred over dictionaries?"
      ],
      "metadata": {
        "id": "it8KrMxvShJT"
      }
    },
    {
      "cell_type": "markdown",
      "source": [
        "Ans. 1. Ordered Data:\n",
        "When the order of the data matters, lists are a better choice. Lists maintain the insertion order, whereas dictionaries do not (prior to Python 3.7).\n",
        "\n",
        "2. Index-Based Access:\n",
        "When you need to access elements by their index (position in the list), lists are more suitable. Lists support indexing, slicing, and other sequence operations.\n",
        "\n",
        "3. Homogeneous Data:\n",
        "When working with a collection of homogeneous data (i.e., data of the same type), lists are a better fit. Lists can store elements of any data type, but they are most efficient when storing elements of the same type.\n",
        "\n",
        "4. Frequent Insertions or Deletions:\n",
        "When the collection needs to be frequently modified (insertions or deletions), lists are more efficient. Lists can handle insertions and deletions at any position, whereas dictionaries are optimized for lookups and insertions/deletions at the end.\n",
        "\n",
        "5. Memory Efficiency (Small Collections):\n",
        "For small collections, lists can be more memory-efficient than dictionaries. Lists store elements in contiguous memory blocks, whereas dictionaries use a hash table, which can be more memory-intensive.\n"
      ],
      "metadata": {
        "id": "abKeR7gsSqYP"
      }
    },
    {
      "cell_type": "markdown",
      "source": [
        "Q19. Why are dictionaries considered unordered, and how does that affect data retrieval?"
      ],
      "metadata": {
        "id": "ts882Ia3SxgV"
      }
    },
    {
      "cell_type": "markdown",
      "source": [
        "Ans. Why Dictionaries Are Unordered:\n",
        "1. Hash Function: The hash function used to map keys to indices is designed to distribute keys evenly across the array. However, this means that the order of the key-value pairs is not preserved.\n",
        "2. Collision Resolution: When two keys hash to the same index, a collision occurs. To resolve collisions, dictionaries use techniques like chaining or open addressing, which can further disrupt the order of the key-value pairs.\n",
        "\n",
        "How Unordered Dictionaries Affect Data Retrieval:\n",
        "1. No Guaranteed Order: When iterating over a dictionary, the order of the key-value pairs is not guaranteed to be consistent. This can make it difficult to rely on the order of the data.\n",
        "2. Random Access: While dictionaries provide fast lookups by key, the unordered nature of the data means that accessing data by index or position is not possible.\n"
      ],
      "metadata": {
        "id": "Mg6wbk7OS3dl"
      }
    },
    {
      "cell_type": "markdown",
      "source": [
        "Q20. Explain the difference between a list and a dictionary in terms of data retrieval?"
      ],
      "metadata": {
        "id": "Hxl6bAkIS_TL"
      }
    },
    {
      "cell_type": "markdown",
      "source": [
        "Ans. Key Differences:\n",
        "1. Retrieval Mechanism: Lists use indexes for retrieval, while dictionaries use keys.\n",
        "2. Access Pattern: Lists are suited for sequential access, while dictionaries are suited for random access.\n",
        "3. Time Complexity: Both lists and dictionaries provide fast lookup, but lists are faster for sequential access, while dictionaries are faster for random access.\n",
        "\n"
      ],
      "metadata": {
        "id": "K_c-zIHiTFGd"
      }
    },
    {
      "cell_type": "markdown",
      "source": [
        "PRACTICAL QUESTIONS"
      ],
      "metadata": {
        "id": "KXf3Se7OTNFw"
      }
    },
    {
      "cell_type": "markdown",
      "source": [
        "Q1.  Write a code to create a string with your name and print it?"
      ],
      "metadata": {
        "id": "3KKND5XNTRF_"
      }
    },
    {
      "cell_type": "code",
      "source": [
        "\n",
        "name = \"Ak Thkr\"\n",
        "\n",
        "# Print the name\n",
        "print(\"My name is:\", name)\n"
      ],
      "metadata": {
        "colab": {
          "base_uri": "https://localhost:8080/"
        },
        "id": "0vrIDy6YUnxo",
        "outputId": "2e5b5c12-ff98-4b32-94fc-aa3505657d07"
      },
      "execution_count": 1,
      "outputs": [
        {
          "output_type": "stream",
          "name": "stdout",
          "text": [
            "My name is: Ak Thkr\n"
          ]
        }
      ]
    },
    {
      "cell_type": "markdown",
      "source": [
        "Q2.  Write a code to find the length of the string \"Hello World\"?"
      ],
      "metadata": {
        "id": "z8kQniuXU0Ch"
      }
    },
    {
      "cell_type": "code",
      "source": [
        "text = \"Hello World\"\n",
        "\n",
        "# Find and print the length of the string\n",
        "length = len(text)\n",
        "print(\"Length of the string:\", length)"
      ],
      "metadata": {
        "colab": {
          "base_uri": "https://localhost:8080/"
        },
        "id": "M2A9WrEWU58D",
        "outputId": "f88b0500-b7b3-43be-e06a-794b85764916"
      },
      "execution_count": 2,
      "outputs": [
        {
          "output_type": "stream",
          "name": "stdout",
          "text": [
            "Length of the string: 11\n"
          ]
        }
      ]
    },
    {
      "cell_type": "markdown",
      "source": [
        "Q3.  Write a code to slice the first 3 characters from the string \"Python Programming\"?"
      ],
      "metadata": {
        "id": "Kg36tQVSVFa3"
      }
    },
    {
      "cell_type": "code",
      "source": [
        "text = \"Python Programming\"\n",
        "\n",
        "# Slice the first 3 characters\n",
        "sliced_text = text[:3]\n",
        "\n",
        "# Print the result\n",
        "print(\"First 3 characters:\", sliced_text)"
      ],
      "metadata": {
        "colab": {
          "base_uri": "https://localhost:8080/"
        },
        "id": "CD9CHEbqVJ8b",
        "outputId": "ec85a165-bcbd-4ba6-dfa0-d25a7ecd86f3"
      },
      "execution_count": 3,
      "outputs": [
        {
          "output_type": "stream",
          "name": "stdout",
          "text": [
            "First 3 characters: Pyt\n"
          ]
        }
      ]
    },
    {
      "cell_type": "markdown",
      "source": [
        "Q4.  Write a code to convert the string \"hello\" to uppercase?"
      ],
      "metadata": {
        "id": "lHS2wlD_VTqS"
      }
    },
    {
      "cell_type": "code",
      "source": [
        "text = \"hello\"\n",
        "\n",
        "# Convert to uppercase\n",
        "uppercase_text = text.upper()\n",
        "\n",
        "# Print the result\n",
        "print(\"Uppercase:\", uppercase_text)"
      ],
      "metadata": {
        "colab": {
          "base_uri": "https://localhost:8080/"
        },
        "id": "TFhrS34FVXyH",
        "outputId": "92f22a57-6736-407b-a51d-f5064aeaba58"
      },
      "execution_count": 4,
      "outputs": [
        {
          "output_type": "stream",
          "name": "stdout",
          "text": [
            "Uppercase: HELLO\n"
          ]
        }
      ]
    },
    {
      "cell_type": "markdown",
      "source": [
        "Q5. Write a code to replace the word \"apple\" with \"orange\" in the string \"I like apple\"?"
      ],
      "metadata": {
        "id": "MXohmCEJVfz_"
      }
    },
    {
      "cell_type": "code",
      "source": [
        "text = \"I like apple\"\n",
        "\n",
        "# Replace \"apple\" with \"orange\"\n",
        "new_text = text.replace(\"apple\", \"orange\")\n",
        "\n",
        "# Print the result\n",
        "print(\"Updated string:\", new_text)"
      ],
      "metadata": {
        "colab": {
          "base_uri": "https://localhost:8080/"
        },
        "id": "lQG6GlC8VkYt",
        "outputId": "788266fd-c76e-44a5-ef69-659f77940f5b"
      },
      "execution_count": 5,
      "outputs": [
        {
          "output_type": "stream",
          "name": "stdout",
          "text": [
            "Updated string: I like orange\n"
          ]
        }
      ]
    },
    {
      "cell_type": "markdown",
      "source": [
        "Q6.  Write a code to create a list with numbers 1 to 5 and print it?"
      ],
      "metadata": {
        "id": "0yPA0Ho0VqBV"
      }
    },
    {
      "cell_type": "code",
      "source": [
        "numbers = [1, 2, 3, 4, 5]\n",
        "\n",
        "# Print the list\n",
        "print(\"List of numbers:\", numbers)"
      ],
      "metadata": {
        "colab": {
          "base_uri": "https://localhost:8080/"
        },
        "id": "yUmCarECVuaV",
        "outputId": "cb6478b0-cc33-466e-a75f-1f4d1b74e458"
      },
      "execution_count": 6,
      "outputs": [
        {
          "output_type": "stream",
          "name": "stdout",
          "text": [
            "List of numbers: [1, 2, 3, 4, 5]\n"
          ]
        }
      ]
    },
    {
      "cell_type": "markdown",
      "source": [
        "Q7.  Write a code to append the number 10 to the list [1, 2, 3, 4]?"
      ],
      "metadata": {
        "id": "4ejlCjJzV1vd"
      }
    },
    {
      "cell_type": "code",
      "source": [
        "numbers = [1, 2, 3, 4]\n",
        "\n",
        "# Append the number 10\n",
        "numbers.append(10)\n",
        "\n",
        "# Print the updated list\n",
        "print(\"Updated list:\", numbers)"
      ],
      "metadata": {
        "colab": {
          "base_uri": "https://localhost:8080/"
        },
        "id": "HHL2L2pAV-ig",
        "outputId": "60680f7f-c32c-4477-a794-4e064fba1b6b"
      },
      "execution_count": 7,
      "outputs": [
        {
          "output_type": "stream",
          "name": "stdout",
          "text": [
            "Updated list: [1, 2, 3, 4, 10]\n"
          ]
        }
      ]
    },
    {
      "cell_type": "markdown",
      "source": [
        "Q8.  Write a code to remove the number 3 from the list [1, 2, 3, 4, 5]?"
      ],
      "metadata": {
        "id": "YePesDAhWEYa"
      }
    },
    {
      "cell_type": "code",
      "source": [
        "numbers = [1, 2, 3, 4, 5]\n",
        "\n",
        "# Remove the number 3\n",
        "numbers.remove(3)\n",
        "\n",
        "# Print the updated list\n",
        "print(\"Updated list:\", numbers)"
      ],
      "metadata": {
        "colab": {
          "base_uri": "https://localhost:8080/"
        },
        "id": "e7zLhpVLWJrb",
        "outputId": "96f1a899-f799-4f9e-d732-4f5c4c216c39"
      },
      "execution_count": 8,
      "outputs": [
        {
          "output_type": "stream",
          "name": "stdout",
          "text": [
            "Updated list: [1, 2, 4, 5]\n"
          ]
        }
      ]
    },
    {
      "cell_type": "markdown",
      "source": [
        "Q9.  Write a code to access the second element in the list ['a', 'b', 'c', 'd']?"
      ],
      "metadata": {
        "id": "lBfjYsFfWR-u"
      }
    },
    {
      "cell_type": "code",
      "source": [
        "letters = ['a', 'b', 'c', 'd']\n",
        "\n",
        "# Access the second element (index 1)\n",
        "second_element = letters[1]\n",
        "\n",
        "# Print the second element\n",
        "print(\"Second element:\", second_element)"
      ],
      "metadata": {
        "colab": {
          "base_uri": "https://localhost:8080/"
        },
        "id": "wGGl1VcvWWr0",
        "outputId": "039b977f-7272-48d2-c19b-cb511b16e051"
      },
      "execution_count": 9,
      "outputs": [
        {
          "output_type": "stream",
          "name": "stdout",
          "text": [
            "Second element: b\n"
          ]
        }
      ]
    },
    {
      "cell_type": "markdown",
      "source": [
        "Q10. Write a code to reverse the list [10, 20, 30, 40, 50]?"
      ],
      "metadata": {
        "id": "m6xR1fWxWblB"
      }
    },
    {
      "cell_type": "code",
      "source": [
        "numbers = [10, 20, 30, 40, 50]\n",
        "\n",
        "# Reverse the list\n",
        "numbers.reverse()\n",
        "\n",
        "# Print the reversed list\n",
        "print(\"Reversed list:\", numbers)"
      ],
      "metadata": {
        "colab": {
          "base_uri": "https://localhost:8080/"
        },
        "id": "V17SAGyjWiAZ",
        "outputId": "7cd0fae0-02ed-4812-9d3b-e55c4a0980ad"
      },
      "execution_count": 10,
      "outputs": [
        {
          "output_type": "stream",
          "name": "stdout",
          "text": [
            "Reversed list: [50, 40, 30, 20, 10]\n"
          ]
        }
      ]
    },
    {
      "cell_type": "markdown",
      "source": [
        "Q11.  Write a code to create a tuple with the elements 100, 200, 300 and print it?"
      ],
      "metadata": {
        "id": "r_wFF9PqWqko"
      }
    },
    {
      "cell_type": "code",
      "source": [
        "my_tuple = (100, 200, 300)\n",
        "\n",
        "# Print the tuple\n",
        "print(\"Tuple:\", my_tuple)"
      ],
      "metadata": {
        "colab": {
          "base_uri": "https://localhost:8080/"
        },
        "id": "c40-eH9QX3Xm",
        "outputId": "4b2db3d7-5d73-4267-b9a5-b8fcdc93e4e9"
      },
      "execution_count": 11,
      "outputs": [
        {
          "output_type": "stream",
          "name": "stdout",
          "text": [
            "Tuple: (100, 200, 300)\n"
          ]
        }
      ]
    },
    {
      "cell_type": "markdown",
      "source": [
        "Q12.  Write a code to access the second-to-last element of the tuple ('red', 'green', 'blue', 'yellow')?"
      ],
      "metadata": {
        "id": "T_V1eyuAX8se"
      }
    },
    {
      "cell_type": "code",
      "source": [
        "colors = ('red', 'green', 'blue', 'yellow')\n",
        "\n",
        "# Access the second-to-last element\n",
        "second_to_last = colors[-2]\n",
        "\n",
        "# Print the result\n",
        "print(\"Second-to-last element:\", second_to_last)"
      ],
      "metadata": {
        "colab": {
          "base_uri": "https://localhost:8080/"
        },
        "id": "_pfOpxjRYB5g",
        "outputId": "24aaf55d-497b-45e5-d829-0a7580a1d4d3"
      },
      "execution_count": 12,
      "outputs": [
        {
          "output_type": "stream",
          "name": "stdout",
          "text": [
            "Second-to-last element: blue\n"
          ]
        }
      ]
    },
    {
      "cell_type": "markdown",
      "source": [
        "Q13.  Write a code to find the minimum number in the tuple (10, 20, 5, 15)?"
      ],
      "metadata": {
        "id": "TSfucRnnYG8Y"
      }
    },
    {
      "cell_type": "code",
      "source": [
        "numbers = (10, 20, 5, 15)\n",
        "\n",
        "# Find the minimum number\n",
        "minimum = min(numbers)\n",
        "\n",
        "# Print the result\n",
        "print(\"Minimum number:\", minimum)"
      ],
      "metadata": {
        "colab": {
          "base_uri": "https://localhost:8080/"
        },
        "id": "98b_YTFdYMIZ",
        "outputId": "c32d3a31-e17e-4145-df88-bd9754b180ae"
      },
      "execution_count": 13,
      "outputs": [
        {
          "output_type": "stream",
          "name": "stdout",
          "text": [
            "Minimum number: 5\n"
          ]
        }
      ]
    },
    {
      "cell_type": "markdown",
      "source": [
        "Q14.  Write a code to find the index of the element \"cat\" in the tuple ('dog', 'cat', 'rabbit')?"
      ],
      "metadata": {
        "id": "bQrKI5GqYRER"
      }
    },
    {
      "cell_type": "code",
      "source": [
        "animals = ('dog', 'cat', 'rabbit')\n",
        "\n",
        "# Find the index of \"cat\"\n",
        "index = animals.index('cat')\n",
        "\n",
        "# Print the result\n",
        "print(\"Index of 'cat':\", index)"
      ],
      "metadata": {
        "colab": {
          "base_uri": "https://localhost:8080/"
        },
        "id": "Cz0lUD-zYVl2",
        "outputId": "5b211150-a206-4269-ace8-f146cb7a6edd"
      },
      "execution_count": 14,
      "outputs": [
        {
          "output_type": "stream",
          "name": "stdout",
          "text": [
            "Index of 'cat': 1\n"
          ]
        }
      ]
    },
    {
      "cell_type": "markdown",
      "source": [
        "Q15.  Write a code to create a tuple containing three different fruits and check if \"kiwi\" is in it?"
      ],
      "metadata": {
        "id": "Hi1vTEWFYama"
      }
    },
    {
      "cell_type": "code",
      "source": [
        "fruits = (\"apple\", \"banana\", \"mango\")\n",
        "\n",
        "# Check if \"kiwi\" is in the tuple\n",
        "if \"kiwi\" in fruits:\n",
        "    print(\"Kiwi is in the tuple.\")\n",
        "else:\n",
        "    print(\"Kiwi is not in the tuple.\")"
      ],
      "metadata": {
        "colab": {
          "base_uri": "https://localhost:8080/"
        },
        "id": "rbjdIXDbYf34",
        "outputId": "0fb879c8-562c-4fd5-ec67-8a0943f521d1"
      },
      "execution_count": 15,
      "outputs": [
        {
          "output_type": "stream",
          "name": "stdout",
          "text": [
            "Kiwi is not in the tuple.\n"
          ]
        }
      ]
    },
    {
      "cell_type": "markdown",
      "source": [],
      "metadata": {
        "id": "6o7Cv8fVYlAC"
      }
    },
    {
      "cell_type": "markdown",
      "source": [
        "Q16. Write a code to create a set with the elements 'a', 'b', 'c' and print it?"
      ],
      "metadata": {
        "id": "rLxiUdzEYm9I"
      }
    },
    {
      "cell_type": "code",
      "source": [
        "my_set = {'a', 'b', 'c'}\n",
        "\n",
        "# Print the set\n",
        "print(\"Set:\", my_set)"
      ],
      "metadata": {
        "colab": {
          "base_uri": "https://localhost:8080/"
        },
        "id": "Vng3qNCBYsDJ",
        "outputId": "67667a3e-7968-4e8f-86a4-97567567de7d"
      },
      "execution_count": 16,
      "outputs": [
        {
          "output_type": "stream",
          "name": "stdout",
          "text": [
            "Set: {'a', 'b', 'c'}\n"
          ]
        }
      ]
    },
    {
      "cell_type": "markdown",
      "source": [
        "Q17.  Write a code to clear all elements from the set {1, 2, 3, 4, 5}?"
      ],
      "metadata": {
        "id": "NwSuiwdiYxfk"
      }
    },
    {
      "cell_type": "code",
      "source": [
        "numbers = {1, 2, 3, 4, 5}\n",
        "\n",
        "# Clear all elements from the set\n",
        "numbers.clear()\n",
        "\n",
        "# Print the cleared set\n",
        "print(\"Cleared set:\", numbers)"
      ],
      "metadata": {
        "colab": {
          "base_uri": "https://localhost:8080/"
        },
        "id": "EGxdLt2QY2lD",
        "outputId": "cca4d6e9-b80e-4918-818b-0a3317a7cf9f"
      },
      "execution_count": 17,
      "outputs": [
        {
          "output_type": "stream",
          "name": "stdout",
          "text": [
            "Cleared set: set()\n"
          ]
        }
      ]
    },
    {
      "cell_type": "markdown",
      "source": [
        "Q18. Write a code to remove the element 4 from the set {1, 2, 3, 4}?"
      ],
      "metadata": {
        "id": "KPN0NdiPY9eE"
      }
    },
    {
      "cell_type": "code",
      "source": [
        "numbers = {1, 2, 3, 4}\n",
        "\n",
        "# Remove the element 4\n",
        "numbers.remove(4)\n",
        "\n",
        "# Print the updated set\n",
        "print(\"Updated set:\", numbers)"
      ],
      "metadata": {
        "colab": {
          "base_uri": "https://localhost:8080/"
        },
        "id": "R5dEf9RZZDQU",
        "outputId": "fd57850b-fbab-493a-a2a9-3ba3495942f4"
      },
      "execution_count": 18,
      "outputs": [
        {
          "output_type": "stream",
          "name": "stdout",
          "text": [
            "Updated set: {1, 2, 3}\n"
          ]
        }
      ]
    },
    {
      "cell_type": "markdown",
      "source": [
        "Q19. Write a code to find the union of two sets {1, 2, 3} and {3, 4, 5}?"
      ],
      "metadata": {
        "id": "x7ognB3yZIIk"
      }
    },
    {
      "cell_type": "code",
      "source": [
        "set1 = {1, 2, 3}\n",
        "set2 = {3, 4, 5}\n",
        "\n",
        "# Find the union\n",
        "union_set = set1.union(set2)\n",
        "\n",
        "# Print the result\n",
        "print(\"Union of sets:\", union_set)"
      ],
      "metadata": {
        "colab": {
          "base_uri": "https://localhost:8080/"
        },
        "id": "XQcgLEgyZMlN",
        "outputId": "097619a6-0907-4db8-e244-75a4931cc00c"
      },
      "execution_count": 19,
      "outputs": [
        {
          "output_type": "stream",
          "name": "stdout",
          "text": [
            "Union of sets: {1, 2, 3, 4, 5}\n"
          ]
        }
      ]
    },
    {
      "cell_type": "markdown",
      "source": [
        "Q20.  Write a code to find the intersection of two sets {1, 2, 3} and {2, 3, 4}?"
      ],
      "metadata": {
        "id": "6-7HET99ZTBX"
      }
    },
    {
      "cell_type": "code",
      "source": [
        "set1 = {1, 2, 3}\n",
        "set2 = {2, 3, 4}\n",
        "\n",
        "# Find the intersection\n",
        "intersection_set = set1.intersection(set2)\n",
        "\n",
        "# Print the result\n",
        "print(\"Intersection of sets:\", intersection_set)"
      ],
      "metadata": {
        "colab": {
          "base_uri": "https://localhost:8080/"
        },
        "id": "9foXapSfZX7X",
        "outputId": "ba0f0f6b-8711-4b3b-b984-6de6fe422509"
      },
      "execution_count": 20,
      "outputs": [
        {
          "output_type": "stream",
          "name": "stdout",
          "text": [
            "Intersection of sets: {2, 3}\n"
          ]
        }
      ]
    },
    {
      "cell_type": "markdown",
      "source": [
        "Q21.  Write a code to create a dictionary with the keys \"name\", \"age\", and \"city\", and print it?"
      ],
      "metadata": {
        "id": "m2pnif-0Ze_m"
      }
    },
    {
      "cell_type": "code",
      "source": [
        "# Create the dictionary\n",
        "person = {\n",
        "    \"name\": \"Aarti\",\n",
        "    \"age\": 30,\n",
        "    \"city\": \"New York\"\n",
        "}\n",
        "\n",
        "# Print the dictionary\n",
        "print(\"Dictionary:\", person)\n"
      ],
      "metadata": {
        "colab": {
          "base_uri": "https://localhost:8080/"
        },
        "id": "S-TBCU19e8bm",
        "outputId": "3e2b98ee-7a73-4d9b-b54d-51c5351f105d"
      },
      "execution_count": 21,
      "outputs": [
        {
          "output_type": "stream",
          "name": "stdout",
          "text": [
            "Dictionary: {'name': 'Aarti', 'age': 30, 'city': 'New York'}\n"
          ]
        }
      ]
    },
    {
      "cell_type": "markdown",
      "source": [
        "Q22.  Write a code to add a new key-value pair \"country\": \"USA\" to the dictionary {'name': 'John', 'age': 25}?"
      ],
      "metadata": {
        "id": "p1fgiW68fII3"
      }
    },
    {
      "cell_type": "code",
      "source": [
        "person = {'name': 'John', 'age': 25}\n",
        "\n",
        "# Add the new key-value pair\n",
        "person['country'] = 'USA'\n",
        "\n",
        "# Print the updated dictionary\n",
        "print(\"Updated dictionary:\", person)\n"
      ],
      "metadata": {
        "colab": {
          "base_uri": "https://localhost:8080/"
        },
        "id": "e6QwJXAmfOri",
        "outputId": "6a8210c3-710d-4b73-b2ea-88cab2dbfc7c"
      },
      "execution_count": 22,
      "outputs": [
        {
          "output_type": "stream",
          "name": "stdout",
          "text": [
            "Updated dictionary: {'name': 'John', 'age': 25, 'country': 'USA'}\n"
          ]
        }
      ]
    },
    {
      "cell_type": "markdown",
      "source": [
        "Q23. Write a code to access the value associated with the key \"name\" in the dictionary {'name': 'Alice', 'age': 30}?"
      ],
      "metadata": {
        "id": "Ywk0z8dwfXTM"
      }
    },
    {
      "cell_type": "code",
      "source": [
        "person = {'name': 'Alice', 'age': 30}\n",
        "\n",
        "# Access the value for the key \"name\"\n",
        "name_value = person['name']\n",
        "\n",
        "# Print the value\n",
        "print(\"Value associated with 'name':\", name_value)"
      ],
      "metadata": {
        "colab": {
          "base_uri": "https://localhost:8080/"
        },
        "id": "yHI6BIaqfdwE",
        "outputId": "d071ca65-d3d1-4c2b-aa66-2026394fb6db"
      },
      "execution_count": 23,
      "outputs": [
        {
          "output_type": "stream",
          "name": "stdout",
          "text": [
            "Value associated with 'name': Alice\n"
          ]
        }
      ]
    },
    {
      "cell_type": "markdown",
      "source": [
        "Q24. Write a code to remove the key \"age\" from the dictionary {'name': 'Bob', 'age': 22, 'city': 'New York'}?"
      ],
      "metadata": {
        "id": "djU6TRS4flVS"
      }
    },
    {
      "cell_type": "code",
      "source": [
        "person = {'name': 'Bob', 'age': 22, 'city': 'New York'}\n",
        "\n",
        "# Remove the key \"age\"\n",
        "person.pop('age')\n",
        "\n",
        "# Print the updated dictionary\n",
        "print(\"Updated dictionary:\", person)"
      ],
      "metadata": {
        "colab": {
          "base_uri": "https://localhost:8080/"
        },
        "id": "i6_mFREFfrSS",
        "outputId": "e2b93f24-d757-4c6c-ee0b-c91516a8f83f"
      },
      "execution_count": 24,
      "outputs": [
        {
          "output_type": "stream",
          "name": "stdout",
          "text": [
            "Updated dictionary: {'name': 'Bob', 'city': 'New York'}\n"
          ]
        }
      ]
    },
    {
      "cell_type": "markdown",
      "source": [
        "Q25.  Write a code to check if the key \"city\" exists in the dictionary {'name': 'Alice', 'city': 'Paris'}?"
      ],
      "metadata": {
        "id": "ZlCQyLzzfwIH"
      }
    },
    {
      "cell_type": "code",
      "source": [
        "person = {'name': 'Alice', 'city': 'Paris'}\n",
        "\n",
        "# Check if the key \"city\" exists\n",
        "if 'city' in person:\n",
        "    print(\"Key 'city' exists in the dictionary.\")\n",
        "else:\n",
        "    print(\"Key 'city' does not exist in the dictionary.\")"
      ],
      "metadata": {
        "colab": {
          "base_uri": "https://localhost:8080/"
        },
        "id": "uPjD_qVif2fn",
        "outputId": "68ab0001-2e33-448f-8c93-e17cae27ec18"
      },
      "execution_count": 25,
      "outputs": [
        {
          "output_type": "stream",
          "name": "stdout",
          "text": [
            "Key 'city' exists in the dictionary.\n"
          ]
        }
      ]
    },
    {
      "cell_type": "markdown",
      "source": [
        "Q26. Write a code to create a list, a tuple, and a dictionary, and print them all?"
      ],
      "metadata": {
        "id": "-xcCfZnZf8px"
      }
    },
    {
      "cell_type": "code",
      "source": [
        "# Create a list\n",
        "my_list = [1, 2, 3, 4, 5]\n",
        "\n",
        "# Create a tuple\n",
        "my_tuple = ('apple', 'banana', 'cherry')\n",
        "\n",
        "# Create a dictionary\n",
        "my_dict = {'name': 'Alice', 'age': 30, 'city': 'Paris'}\n",
        "\n",
        "# Print all of them\n",
        "print(\"List:\", my_list)\n",
        "print(\"Tuple:\", my_tuple)\n",
        "print(\"Dictionary:\", my_dict)"
      ],
      "metadata": {
        "colab": {
          "base_uri": "https://localhost:8080/"
        },
        "id": "Q0IxrK0WgB9H",
        "outputId": "ab55a533-c4e0-49ae-fa41-595dd8a23be3"
      },
      "execution_count": 26,
      "outputs": [
        {
          "output_type": "stream",
          "name": "stdout",
          "text": [
            "List: [1, 2, 3, 4, 5]\n",
            "Tuple: ('apple', 'banana', 'cherry')\n",
            "Dictionary: {'name': 'Alice', 'age': 30, 'city': 'Paris'}\n"
          ]
        }
      ]
    },
    {
      "cell_type": "markdown",
      "source": [
        "Q27. Write a code to create a list of 5 random numbers between 1 and 100, sort it in ascending order, and print the result.(replaced)?"
      ],
      "metadata": {
        "id": "AFGcgMh4gHuB"
      }
    },
    {
      "cell_type": "code",
      "source": [
        "import random\n",
        "\n",
        "# Create a list of 5 random numbers between 1 and 100\n",
        "random_numbers = [random.randint(1, 100) for _ in range(5)]\n",
        "\n",
        "# Sort the list in ascending order\n",
        "random_numbers.sort()\n",
        "\n",
        "# Print the result\n",
        "print(\"Sorted list of random numbers:\", random_numbers)"
      ],
      "metadata": {
        "colab": {
          "base_uri": "https://localhost:8080/"
        },
        "id": "nteTl32jgPQb",
        "outputId": "a7072ef0-15e6-4962-f8a8-8597cff6c352"
      },
      "execution_count": 27,
      "outputs": [
        {
          "output_type": "stream",
          "name": "stdout",
          "text": [
            "Sorted list of random numbers: [12, 56, 84, 92, 94]\n"
          ]
        }
      ]
    },
    {
      "cell_type": "markdown",
      "source": [
        "Q28.  Write a code to create a list with strings and print the element at the third index?"
      ],
      "metadata": {
        "id": "_8_UicYqgWLR"
      }
    },
    {
      "cell_type": "code",
      "source": [
        "# Create a list with strings\n",
        "fruits = ['apple', 'banana', 'cherry', 'date', 'elderberry']\n",
        "\n",
        "# Print the element at the third index (index 3)\n",
        "print(\"Element at third index:\", fruits[3])"
      ],
      "metadata": {
        "colab": {
          "base_uri": "https://localhost:8080/"
        },
        "id": "7ms16YgygcIf",
        "outputId": "919d8426-9d42-4a44-f92c-0e4200875b58"
      },
      "execution_count": 28,
      "outputs": [
        {
          "output_type": "stream",
          "name": "stdout",
          "text": [
            "Element at third index: date\n"
          ]
        }
      ]
    },
    {
      "cell_type": "markdown",
      "source": [
        "Q29. Write a code to combine two dictionaries into one and print the result?"
      ],
      "metadata": {
        "id": "Q9LxNR-igh3y"
      }
    },
    {
      "cell_type": "code",
      "source": [
        "dict1 = {'name': 'Alice', 'age': 30}\n",
        "\n",
        "dict2 = {'city': 'Paris', 'country': 'France'}\n",
        "\n",
        "# Combine the dictionaries\n",
        "combined_dict = {**dict1, **dict2}\n",
        "\n",
        "# Print the result\n",
        "print(\"Combined dictionary:\", combined_dict)"
      ],
      "metadata": {
        "colab": {
          "base_uri": "https://localhost:8080/"
        },
        "id": "yXMgcLFCgqJk",
        "outputId": "1279b680-7395-4526-8152-3e11bd249a39"
      },
      "execution_count": 29,
      "outputs": [
        {
          "output_type": "stream",
          "name": "stdout",
          "text": [
            "Combined dictionary: {'name': 'Alice', 'age': 30, 'city': 'Paris', 'country': 'France'}\n"
          ]
        }
      ]
    },
    {
      "cell_type": "markdown",
      "source": [
        "Q30.  Write a code to convert a list of strings into a set?"
      ],
      "metadata": {
        "id": "qrAuRXxeg1zA"
      }
    },
    {
      "cell_type": "code",
      "source": [
        "# Define a list of strings\n",
        "fruits = ['apple', 'banana', 'cherry', 'apple', 'banana']\n",
        "\n",
        "# Convert the list to a set\n",
        "fruit_set = set(fruits)\n",
        "\n",
        "# Print the result\n",
        "print(\"Set of fruits:\", fruit_set)"
      ],
      "metadata": {
        "colab": {
          "base_uri": "https://localhost:8080/"
        },
        "id": "luG6bV6rg7Rh",
        "outputId": "5e71e792-3cad-4dd4-b1e7-c84c5402d1e5"
      },
      "execution_count": 30,
      "outputs": [
        {
          "output_type": "stream",
          "name": "stdout",
          "text": [
            "Set of fruits: {'cherry', 'banana', 'apple'}\n"
          ]
        }
      ]
    },
    {
      "cell_type": "markdown",
      "source": [],
      "metadata": {
        "id": "krKA8SWURwQ1"
      }
    },
    {
      "cell_type": "markdown",
      "source": [],
      "metadata": {
        "id": "T2UwbCWwREiy"
      }
    }
  ]
}